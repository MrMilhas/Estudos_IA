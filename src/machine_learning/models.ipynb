{
 "cells": [
  {
   "attachments": {},
   "cell_type": "markdown",
   "metadata": {},
   "source": [
    "## Aplicação dos Modelos de Aprendizado de Máquina:"
   ]
  },
  {
   "attachments": {},
   "cell_type": "markdown",
   "metadata": {},
   "source": [
    "* Naive Bayes;\n",
    "* Árvores de Decisão;\n",
    "* Florestas Aleatórias;\n",
    "* Aprendizagem Por Regras;\n",
    "* Aprendizagem Baseada Em Instâncias;\n",
    "* Regressão Logística;"
   ]
  },
  {
   "attachments": {},
   "cell_type": "markdown",
   "metadata": {},
   "source": [
    "-----------------------------------------"
   ]
  },
  {
   "attachments": {},
   "cell_type": "markdown",
   "metadata": {},
   "source": [
    "### Importação das Bibliotecas:"
   ]
  },
  {
   "cell_type": "code",
   "execution_count": 1,
   "metadata": {},
   "outputs": [],
   "source": [
    "from sklearn.metrics import accuracy_score, confusion_matrix\n",
    "from sklearn.model_selection import train_test_split\n",
    "from sklearn.preprocessing import StandardScaler\n",
    "import matplotlib.pyplot as plt\n",
    "import plotly.express as px\n",
    "import seaborn as sns\n",
    "import pandas as pd\n",
    "import numpy as np\n",
    "import pickle\n",
    "import sys"
   ]
  },
  {
   "attachments": {},
   "cell_type": "markdown",
   "metadata": {},
   "source": [
    "--------------------------------------"
   ]
  },
  {
   "attachments": {},
   "cell_type": "markdown",
   "metadata": {},
   "source": [
    "### Importação dos Dados:"
   ]
  },
  {
   "cell_type": "code",
   "execution_count": 6,
   "metadata": {},
   "outputs": [],
   "source": [
    "# Lendo o arquivo com as variáveis:\n",
    "with open ('../../data/credit.pkl', 'rb') as f:\n",
    "    x_credit_train, y_credit_train, x_credit_test, y_credit_test = pickle.load(f)"
   ]
  },
  {
   "attachments": {},
   "cell_type": "markdown",
   "metadata": {},
   "source": [
    "----------------------------------------"
   ]
  },
  {
   "attachments": {},
   "cell_type": "markdown",
   "metadata": {},
   "source": [
    "### Aplicação dos Modelos:"
   ]
  },
  {
   "attachments": {},
   "cell_type": "markdown",
   "metadata": {},
   "source": [
    "    - Naive Bayes:"
   ]
  },
  {
   "cell_type": "code",
   "execution_count": 3,
   "metadata": {},
   "outputs": [],
   "source": [
    "# Importando algoritmo:\n",
    "from sklearn.naive_bayes import GaussianNB"
   ]
  },
  {
   "cell_type": "code",
   "execution_count": 7,
   "metadata": {},
   "outputs": [
    {
     "name": "stdout",
     "output_type": "stream",
     "text": [
      "Acurácia MB: 0.7929764243614931\n"
     ]
    }
   ],
   "source": [
    "# Treinando o modelo:\n",
    "naive_credit_data = GaussianNB()\n",
    "naive_credit_data.fit(x_credit_train, y_credit_train);\n",
    "\n",
    "# Realizando Previsões:\n",
    "prev_mb = naive_credit_data.predict(x_credit_test);\n",
    "\n",
    "# Calculando porcentagem de acertos:\n",
    "print(\"Acurácia Maive Bayes: \" + str(accuracy_score(y_credit_test, prev_mb)))"
   ]
  },
  {
   "attachments": {},
   "cell_type": "markdown",
   "metadata": {},
   "source": [
    "-----------------------------------------"
   ]
  },
  {
   "attachments": {},
   "cell_type": "markdown",
   "metadata": {},
   "source": [
    "### Árvore de Decisão:"
   ]
  },
  {
   "cell_type": "code",
   "execution_count": 8,
   "metadata": {},
   "outputs": [],
   "source": [
    "# Importando algoritmo:\n",
    "from sklearn.tree import DecisionTreeClassifier"
   ]
  },
  {
   "cell_type": "code",
   "execution_count": 9,
   "metadata": {},
   "outputs": [
    {
     "name": "stdout",
     "output_type": "stream",
     "text": [
      "Acurácia DT: 0.8072200392927309\n"
     ]
    }
   ],
   "source": [
    "# Treinando o modelo:\n",
    "decision_tree_data = DecisionTreeClassifier(criterion = 'entropy', random_state = 0)\n",
    "decision_tree_data.fit(x_credit_train, y_credit_train);\n",
    "\n",
    "# Realizando Previsões:\n",
    "prev_dt = decision_tree_data.predict(x_credit_test);\n",
    "\n",
    "# Calculando porcentagem de acertos:\n",
    "print(\"Acurácia Decision Tree: \" + str(accuracy_score(y_credit_test, prev_dt)))"
   ]
  },
  {
   "attachments": {},
   "cell_type": "markdown",
   "metadata": {},
   "source": [
    "---------------------------------"
   ]
  },
  {
   "attachments": {},
   "cell_type": "markdown",
   "metadata": {},
   "source": [
    "### Florestas Aleatórias:"
   ]
  },
  {
   "cell_type": "code",
   "execution_count": 11,
   "metadata": {},
   "outputs": [],
   "source": [
    "# Importando algoritmo:\n",
    "from sklearn.ensemble import RandomForestClassifier"
   ]
  },
  {
   "cell_type": "code",
   "execution_count": 19,
   "metadata": {},
   "outputs": [
    {
     "name": "stdout",
     "output_type": "stream",
     "text": [
      "Acurácia Random Forest: 0.8363212180746562\n"
     ]
    }
   ],
   "source": [
    "# Treinando o modelo:\n",
    "random_forest_data = RandomForestClassifier(n_estimators = 100, criterion = 'entropy', random_state = 0)\n",
    "random_forest_data.fit(x_credit_train, y_credit_train);\n",
    "\n",
    "# Realizando Previsões:\n",
    "prev_rf = random_forest_data.predict(x_credit_test);\n",
    "\n",
    "# Calculando porcentagem de acertos:\n",
    "print(\"Acurácia Random Forest: \" + str(accuracy_score(y_credit_test, prev_rf)))"
   ]
  },
  {
   "attachments": {},
   "cell_type": "markdown",
   "metadata": {},
   "source": [
    "----------------------------------------------"
   ]
  }
 ],
 "metadata": {
  "kernelspec": {
   "display_name": "Python 3",
   "language": "python",
   "name": "python3"
  },
  "language_info": {
   "codemirror_mode": {
    "name": "ipython",
    "version": 3
   },
   "file_extension": ".py",
   "mimetype": "text/x-python",
   "name": "python",
   "nbconvert_exporter": "python",
   "pygments_lexer": "ipython3",
   "version": "3.11.1"
  },
  "orig_nbformat": 4,
  "vscode": {
   "interpreter": {
    "hash": "240ea60210518eb02e90500eb4584ecff3c748e68263b18f49fa48ee6fd28753"
   }
  }
 },
 "nbformat": 4,
 "nbformat_minor": 2
}
