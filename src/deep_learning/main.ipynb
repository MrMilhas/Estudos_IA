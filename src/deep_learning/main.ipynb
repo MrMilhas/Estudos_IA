{
 "cells": [
  {
   "cell_type": "code",
   "execution_count": null,
   "metadata": {},
   "outputs": [],
   "source": []
  }
 ],
 "metadata": {
  "kernelspec": {
   "display_name": "Python 3",
   "language": "python",
   "name": "python3"
  },
  "language_info": {
   "name": "python",
   "version": "3.11.1"
  },
  "orig_nbformat": 4,
  "vscode": {
   "interpreter": {
    "hash": "240ea60210518eb02e90500eb4584ecff3c748e68263b18f49fa48ee6fd28753"
   }
  }
 },
 "nbformat": 4,
 "nbformat_minor": 2
}
